{
 "cells": [
  {
   "cell_type": "markdown",
   "metadata": {},
   "source": [
    "## Similarity of each variable to the normal distribution:"
   ]
  },
  {
   "cell_type": "code",
   "execution_count": 1,
   "metadata": {},
   "outputs": [],
   "source": [
    "import pandas as pd\n",
    "import numpy as np\n",
    "from scipy.stats import norm, skew, kurtosis\n",
    "from scipy.stats import shapiro\n",
    "from statsmodels.stats.outliers_influence import variance_inflation_factor"
   ]
  },
  {
   "cell_type": "markdown",
   "metadata": {},
   "source": [
    "We can assess the normality of each variable using skewness, kurtosis, and normality tests like the Shapiro-Wilk test."
   ]
  },
  {
   "cell_type": "code",
   "execution_count": 2,
   "metadata": {},
   "outputs": [
    {
     "name": "stdout",
     "output_type": "stream",
     "text": [
      "Skewness of year: -0.08\n",
      "Kurtosis of year: -1.07\n",
      "Shapiro-Wilk test for year: statistic=0.9616, p-value=0.0000\n",
      "------------------------------\n",
      "Skewness of Life Ladder: -0.02\n",
      "Kurtosis of Life Ladder: -0.59\n",
      "Shapiro-Wilk test for Life Ladder: statistic=0.9892, p-value=0.0000\n",
      "------------------------------\n",
      "Skewness of Log GDP per capita: nan\n",
      "Kurtosis of Log GDP per capita: nan\n",
      "Shapiro-Wilk test for Log GDP per capita: statistic=nan, p-value=1.0000\n",
      "------------------------------\n",
      "Skewness of Social support: nan\n",
      "Kurtosis of Social support: nan\n",
      "Shapiro-Wilk test for Social support: statistic=nan, p-value=1.0000\n",
      "------------------------------\n",
      "Skewness of Healthy life expectancy at birth: nan\n",
      "Kurtosis of Healthy life expectancy at birth: nan\n",
      "Shapiro-Wilk test for Healthy life expectancy at birth: statistic=nan, p-value=1.0000\n",
      "------------------------------\n",
      "Skewness of Freedom to make life choices: nan\n",
      "Kurtosis of Freedom to make life choices: nan\n",
      "Shapiro-Wilk test for Freedom to make life choices: statistic=nan, p-value=1.0000\n",
      "------------------------------\n",
      "Skewness of Generosity: nan\n",
      "Kurtosis of Generosity: nan\n",
      "Shapiro-Wilk test for Generosity: statistic=nan, p-value=1.0000\n",
      "------------------------------\n",
      "Skewness of Perceptions of corruption: nan\n",
      "Kurtosis of Perceptions of corruption: nan\n",
      "Shapiro-Wilk test for Perceptions of corruption: statistic=nan, p-value=1.0000\n",
      "------------------------------\n",
      "Skewness of Positive affect: nan\n",
      "Kurtosis of Positive affect: nan\n",
      "Shapiro-Wilk test for Positive affect: statistic=nan, p-value=1.0000\n",
      "------------------------------\n",
      "Skewness of Negative affect: nan\n",
      "Kurtosis of Negative affect: nan\n",
      "Shapiro-Wilk test for Negative affect: statistic=nan, p-value=1.0000\n",
      "------------------------------\n"
     ]
    }
   ],
   "source": [
    "# Load the data\n",
    "data = pd.read_csv('combined.csv')\n",
    "\n",
    "# Select numerical columns\n",
    "numerical_cols = data.select_dtypes(include=['float64', 'int64']).columns\n",
    "\n",
    "# Loop through each numerical column\n",
    "for col in numerical_cols:\n",
    "    # Calculate skewness and kurtosis\n",
    "    skew_val = skew(data[col])\n",
    "    kurt_val = kurtosis(data[col])\n",
    "    print(f\"Skewness of {col}: {skew_val:.2f}\")\n",
    "    print(f\"Kurtosis of {col}: {kurt_val:.2f}\")\n",
    "    \n",
    "    # Shapiro-Wilk test for normality\n",
    "    stat, p_val = shapiro(data[col])\n",
    "    print(f\"Shapiro-Wilk test for {col}: statistic={stat:.4f}, p-value={p_val:.4f}\")\n",
    "    print(\"-\" * 30)"
   ]
  },
  {
   "cell_type": "markdown",
   "metadata": {},
   "source": [
    "#### Skewness measures the asymmetry of a distribution, with a value of 0 indicating perfect symmetry. Positive skewness indicates a longer right tail, while negative skewness indicates a longer left tail.\n",
    "#### Kurtosis measures the \"peakedness\" of a distribution. A normal distribution has a kurtosis of 3. Higher kurtosis indicates a more peaked distribution with heavier tails, while lower kurtosis indicates a flatter distribution.\n",
    "#### The Shapiro-Wilk test is a statistical test that checks if a sample comes from a normal distribution. A low p-value (e.g., < 0.05) suggests that the data is not normally distributed."
   ]
  },
  {
   "cell_type": "markdown",
   "metadata": {},
   "source": [
    "## Internal consistency"
   ]
  },
  {
   "cell_type": "markdown",
   "metadata": {},
   "source": [
    "Internal consistency measures the reliability of a set of variables or items that are meant to measure the same construct. For this dataset, which contains various socioeconomic indicators, we can calculate the Cronbach's alpha to assess the internal consistency of the entire dataset."
   ]
  },
  {
   "cell_type": "code",
   "execution_count": 3,
   "metadata": {},
   "outputs": [
    {
     "name": "stdout",
     "output_type": "stream",
     "text": [
      "Cronbach's alpha for the dataset: 0.6804\n"
     ]
    }
   ],
   "source": [
    "# Calculate Cronbach's alpha\n",
    "alpha = data.select_dtypes(include=['float64', 'int64']).corr().values[np.triu_indices_from(data.select_dtypes(include=['float64', 'int64']).corr(), k=1)]\n",
    "alpha = alpha[alpha != 1]\n",
    "alpha = 1 - alpha.sum() / ((len(alpha) - len(data.select_dtypes(include=['float64', 'int64']).columns)) / 2)\n",
    "print(f\"Cronbach's alpha for the dataset: {alpha:.4f}\")"
   ]
  },
  {
   "cell_type": "markdown",
   "metadata": {},
   "source": [
    "#### Cronbach's alpha is a measure of internal consistency, ranging from 0 to 1. A higher value (e.g., > 0.7) indicates that the variables are measuring the same underlying construct consistently.\n",
    "#### The code calculates the Cronbach's alpha by first computing the correlation matrix of numerical variables, then using the off-diagonal elements of the correlation matrix to calculate the alpha value."
   ]
  },
  {
   "cell_type": "markdown",
   "metadata": {},
   "source": [
    "## Correlation"
   ]
  },
  {
   "cell_type": "markdown",
   "metadata": {},
   "source": [
    "We can calculate the correlation between the variables to understand the strength and direction of the linear relationship between them."
   ]
  },
  {
   "cell_type": "code",
   "execution_count": 4,
   "metadata": {},
   "outputs": [
    {
     "name": "stdout",
     "output_type": "stream",
     "text": [
      "Correlation matrix:\n",
      "                                       year  Life Ladder  Log GDP per capita  \\\n",
      "year                              1.000000     0.045947            0.077767   \n",
      "Life Ladder                       0.045947     1.000000            0.784868   \n",
      "Log GDP per capita                0.077767     0.784868            1.000000   \n",
      "Social support                   -0.029741     0.721662            0.683590   \n",
      "Healthy life expectancy at birth  0.163500     0.713499            0.818126   \n",
      "Freedom to make life choices      0.234135     0.534493            0.367525   \n",
      "Generosity                        0.005641     0.181630           -0.000854   \n",
      "Perceptions of corruption        -0.081394    -0.431500           -0.352847   \n",
      "Positive affect                   0.019226     0.518169            0.237933   \n",
      "Negative affect                   0.205329    -0.339969           -0.247541   \n",
      "\n",
      "                                  Social support  \\\n",
      "year                                   -0.029741   \n",
      "Life Ladder                             0.721662   \n",
      "Log GDP per capita                      0.683590   \n",
      "Social support                          1.000000   \n",
      "Healthy life expectancy at birth        0.597659   \n",
      "Freedom to make life choices            0.409326   \n",
      "Generosity                              0.068572   \n",
      "Perceptions of corruption              -0.222551   \n",
      "Positive affect                         0.431038   \n",
      "Negative affect                        -0.441837   \n",
      "\n",
      "                                  Healthy life expectancy at birth  \\\n",
      "year                                                      0.163500   \n",
      "Life Ladder                                               0.713499   \n",
      "Log GDP per capita                                        0.818126   \n",
      "Social support                                            0.597659   \n",
      "Healthy life expectancy at birth                          1.000000   \n",
      "Freedom to make life choices                              0.373465   \n",
      "Generosity                                                0.010775   \n",
      "Perceptions of corruption                                -0.299016   \n",
      "Positive affect                                           0.223048   \n",
      "Negative affect                                          -0.140700   \n",
      "\n",
      "                                  Freedom to make life choices  Generosity  \\\n",
      "year                                                  0.234135    0.005641   \n",
      "Life Ladder                                           0.534493    0.181630   \n",
      "Log GDP per capita                                    0.367525   -0.000854   \n",
      "Social support                                        0.409326    0.068572   \n",
      "Healthy life expectancy at birth                      0.373465    0.010775   \n",
      "Freedom to make life choices                          1.000000    0.325030   \n",
      "Generosity                                            0.325030    1.000000   \n",
      "Perceptions of corruption                            -0.476517   -0.279435   \n",
      "Positive affect                                       0.578680    0.307097   \n",
      "Negative affect                                      -0.275438   -0.080801   \n",
      "\n",
      "                                  Perceptions of corruption  Positive affect  \\\n",
      "year                                              -0.081394         0.019226   \n",
      "Life Ladder                                       -0.431500         0.518169   \n",
      "Log GDP per capita                                -0.352847         0.237933   \n",
      "Social support                                    -0.222551         0.431038   \n",
      "Healthy life expectancy at birth                  -0.299016         0.223048   \n",
      "Freedom to make life choices                      -0.476517         0.578680   \n",
      "Generosity                                        -0.279435         0.307097   \n",
      "Perceptions of corruption                          1.000000        -0.280606   \n",
      "Positive affect                                   -0.280606         1.000000   \n",
      "Negative affect                                    0.266265        -0.330301   \n",
      "\n",
      "                                  Negative affect  \n",
      "year                                     0.205329  \n",
      "Life Ladder                             -0.339969  \n",
      "Log GDP per capita                      -0.247541  \n",
      "Social support                          -0.441837  \n",
      "Healthy life expectancy at birth        -0.140700  \n",
      "Freedom to make life choices            -0.275438  \n",
      "Generosity                              -0.080801  \n",
      "Perceptions of corruption                0.266265  \n",
      "Positive affect                         -0.330301  \n",
      "Negative affect                          1.000000  \n"
     ]
    }
   ],
   "source": [
    "# Calculate correlation matrix\n",
    "corr_matrix = data.select_dtypes(include=['float64', 'int64']).corr()\n",
    "print(\"Correlation matrix:\\n\", corr_matrix)"
   ]
  },
  {
   "cell_type": "markdown",
   "metadata": {},
   "source": [
    "#### The correlation matrix shows the pairwise correlation coefficients between all numerical variables.\n",
    "#### A correlation coefficient ranges from -1 to 1, where -1 indicates a perfect negative correlation, 0 indicates no correlation, and 1 indicates a perfect positive correlation.\n",
    "#### The correlation matrix can help identify multicollinearity issues (highly correlated variables) and potential relationships between variables."
   ]
  },
  {
   "cell_type": "markdown",
   "metadata": {},
   "source": [
    "## Outlier detection"
   ]
  },
  {
   "cell_type": "markdown",
   "metadata": {},
   "source": [
    "Outliers can significantly impact the analysis and modeling of data. We can use various techniques to detect outliers, such as the Z-score method or the Tukey's method."
   ]
  },
  {
   "cell_type": "code",
   "execution_count": 5,
   "metadata": {},
   "outputs": [
    {
     "name": "stdout",
     "output_type": "stream",
     "text": [
      "Number of outliers detected (Z-score method): 110\n",
      "Number of outliers detected (Tukey's method): 321\n"
     ]
    }
   ],
   "source": [
    "# Detect outliers using Z-score method\n",
    "z_scores = np.abs((data.select_dtypes(include=['float64', 'int64']) - data.select_dtypes(include=['float64', 'int64']).mean()) / data.select_dtypes(include=['float64', 'int64']).std())\n",
    "outliers = (z_scores > 3).any(axis=1)\n",
    "print(f\"Number of outliers detected (Z-score method): {outliers.sum()}\")\n",
    "\n",
    "# Detect outliers using Tukey's method\n",
    "Q1 = data.select_dtypes(include=['float64', 'int64']).quantile(0.25)\n",
    "Q3 = data.select_dtypes(include=['float64', 'int64']).quantile(0.75)\n",
    "IQR = Q3 - Q1\n",
    "outliers = (data.select_dtypes(include=['float64', 'int64']) < (Q1 - 1.5 * IQR)) | (data.select_dtypes(include=['float64', 'int64']) > (Q3 + 1.5 * IQR))\n",
    "print(f\"Number of outliers detected (Tukey's method): {outliers.any(axis=1).sum()}\")"
   ]
  },
  {
   "cell_type": "markdown",
   "metadata": {},
   "source": [
    "#### The Z-score method calculates the number of standard deviations a data point is away from the mean. Data points with an absolute Z-score greater than 3 are often considered outliers.\n",
    "#### Tukey's method is based on the interquartile range (IQR). Data points beyond 1.5 times the IQR from the first (Q1) and third (Q3) quartiles are considered outliers.\n",
    "#### Both methods identify the number of rows (observations) that contain at least one outlier value across all numerical columns."
   ]
  }
 ],
 "metadata": {
  "kernelspec": {
   "display_name": "Python 3",
   "language": "python",
   "name": "python3"
  },
  "language_info": {
   "codemirror_mode": {
    "name": "ipython",
    "version": 3
   },
   "file_extension": ".py",
   "mimetype": "text/x-python",
   "name": "python",
   "nbconvert_exporter": "python",
   "pygments_lexer": "ipython3",
   "version": "3.10.12"
  }
 },
 "nbformat": 4,
 "nbformat_minor": 2
}
