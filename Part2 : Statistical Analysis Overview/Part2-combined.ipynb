{
 "cells": [
  {
   "cell_type": "markdown",
   "metadata": {},
   "source": [
    "## Similarity of each variable to the normal distribution:"
   ]
  },
  {
   "cell_type": "code",
   "execution_count": 10,
   "metadata": {},
   "outputs": [],
   "source": [
    "import pandas as pd\n",
    "import numpy as np\n",
    "from scipy.stats import norm, skew, kurtosis\n",
    "from scipy.stats import shapiro\n",
    "from statsmodels.stats.outliers_influence import variance_inflation_factor\n",
    "import pingouin as pg"
   ]
  },
  {
   "cell_type": "code",
   "execution_count": 11,
   "metadata": {},
   "outputs": [],
   "source": [
    "# Load the data\n",
    "data = pd.read_csv('../Dataset/csv_format/combined.csv')\n"
   ]
  },
  {
   "cell_type": "code",
   "execution_count": 12,
   "metadata": {},
   "outputs": [],
   "source": [
    "# Drop the 'Ladder score' column\n",
    "data.drop(columns=['Life Ladder'], inplace=True)"
   ]
  },
  {
   "cell_type": "code",
   "execution_count": 13,
   "metadata": {},
   "outputs": [
    {
     "name": "stdout",
     "output_type": "stream",
     "text": [
      "Missing Values:\n",
      "Country name                          0\n",
      "year                                  0\n",
      "Log GDP per capita                   20\n",
      "Social support                       13\n",
      "Healthy life expectancy at birth     54\n",
      "Freedom to make life choices         33\n",
      "Generosity                           73\n",
      "Perceptions of corruption           116\n",
      "Positive affect                      24\n",
      "Negative affect                      16\n",
      "dtype: int64\n",
      "\n",
      "Duplicate Rows:\n",
      "0\n",
      "\n",
      "Unexpected Values:\n",
      "year                                   0\n",
      "Log GDP per capita                     0\n",
      "Social support                         0\n",
      "Healthy life expectancy at birth       0\n",
      "Freedom to make life choices           0\n",
      "Generosity                          1187\n",
      "Perceptions of corruption              0\n",
      "Positive affect                        0\n",
      "Negative affect                        0\n",
      "dtype: int64\n",
      "\n",
      "Data Types:\n",
      "Country name                         object\n",
      "year                                  int64\n",
      "Log GDP per capita                  float64\n",
      "Social support                      float64\n",
      "Healthy life expectancy at birth    float64\n",
      "Freedom to make life choices        float64\n",
      "Generosity                          float64\n",
      "Perceptions of corruption           float64\n",
      "Positive affect                     float64\n",
      "Negative affect                     float64\n",
      "dtype: object\n",
      "\n",
      "Summary Statistics for Numerical Columns:\n",
      "              year  Log GDP per capita  Social support  \\\n",
      "count  2199.000000         2179.000000     2186.000000   \n",
      "mean   2014.161437            9.389760        0.810681   \n",
      "std       4.718736            1.153402        0.120953   \n",
      "min    2005.000000            5.527000        0.228000   \n",
      "25%    2010.000000            8.500000        0.747000   \n",
      "50%    2014.000000            9.499000        0.836000   \n",
      "75%    2018.000000           10.373500        0.905000   \n",
      "max    2022.000000           11.664000        0.987000   \n",
      "\n",
      "       Healthy life expectancy at birth  Freedom to make life choices  \\\n",
      "count                       2145.000000                   2166.000000   \n",
      "mean                          63.294582                      0.747847   \n",
      "std                            6.901104                      0.140137   \n",
      "min                            6.720000                      0.258000   \n",
      "25%                           59.120000                      0.656250   \n",
      "50%                           65.050000                      0.770000   \n",
      "75%                           68.500000                      0.859000   \n",
      "max                           74.475000                      0.985000   \n",
      "\n",
      "        Generosity  Perceptions of corruption  Positive affect  \\\n",
      "count  2126.000000                2083.000000      2175.000000   \n",
      "mean      0.000091                   0.745208         0.652148   \n",
      "std       0.161079                   0.185835         0.105913   \n",
      "min      -0.338000                   0.035000         0.179000   \n",
      "25%      -0.112000                   0.688000         0.572000   \n",
      "50%      -0.023000                   0.800000         0.663000   \n",
      "75%       0.092000                   0.869000         0.738000   \n",
      "max       0.703000                   0.983000         0.884000   \n",
      "\n",
      "       Negative affect  \n",
      "count      2183.000000  \n",
      "mean          0.271493  \n",
      "std           0.086872  \n",
      "min           0.083000  \n",
      "25%           0.208000  \n",
      "50%           0.261000  \n",
      "75%           0.323000  \n",
      "max           0.705000  \n"
     ]
    }
   ],
   "source": [
    "# Check for missing values\n",
    "missing_values = data.isnull().sum()\n",
    "print(\"Missing Values:\")\n",
    "print(missing_values)\n",
    "\n",
    "# Check for duplicate rows\n",
    "duplicate_rows = data.duplicated().sum()\n",
    "print(\"\\nDuplicate Rows:\")\n",
    "print(duplicate_rows)\n",
    "\n",
    "# Check for any unexpected values or outliers\n",
    "# For example, you can check if any numerical columns have negative values\n",
    "numeric_columns = data.select_dtypes(include=['float64', 'int64']).columns\n",
    "unexpected_values = data[numeric_columns].lt(0).sum()\n",
    "print(\"\\nUnexpected Values:\")\n",
    "print(unexpected_values)\n",
    "\n",
    "# Check data types\n",
    "print(\"\\nData Types:\")\n",
    "print(data.dtypes)\n",
    "\n",
    "# Summary statistics for numerical columns\n",
    "print(\"\\nSummary Statistics for Numerical Columns:\")\n",
    "print(data.describe())\n",
    "\n",
    "# Check for outliers using box plots or histograms\n",
    "# For example, you can visualize the distribution of numerical columns\n",
    "\n",
    "# Check for inconsistencies in categorical variables\n",
    "# For example, check if there are inconsistent capitalizations or spelling errors in categorical columns\n"
   ]
  },
  {
   "cell_type": "markdown",
   "metadata": {},
   "source": [
    "We can assess the normality of each variable using skewness, kurtosis, and normality tests like the Shapiro-Wilk test."
   ]
  },
  {
   "cell_type": "code",
   "execution_count": 14,
   "metadata": {},
   "outputs": [
    {
     "name": "stdout",
     "output_type": "stream",
     "text": [
      "Skewness of year: -0.08\n",
      "Kurtosis of year: -1.07\n",
      "Shapiro-Wilk test for year: statistic=0.9616, p-value=0.0000\n",
      "------------------------------\n",
      "Skewness of Log GDP per capita: nan\n",
      "Kurtosis of Log GDP per capita: nan\n",
      "Shapiro-Wilk test for Log GDP per capita: statistic=nan, p-value=1.0000\n",
      "------------------------------\n",
      "Skewness of Social support: nan\n",
      "Kurtosis of Social support: nan\n",
      "Shapiro-Wilk test for Social support: statistic=nan, p-value=1.0000\n",
      "------------------------------\n",
      "Skewness of Healthy life expectancy at birth: nan\n",
      "Kurtosis of Healthy life expectancy at birth: nan\n",
      "Shapiro-Wilk test for Healthy life expectancy at birth: statistic=nan, p-value=1.0000\n",
      "------------------------------\n",
      "Skewness of Freedom to make life choices: nan\n",
      "Kurtosis of Freedom to make life choices: nan\n",
      "Shapiro-Wilk test for Freedom to make life choices: statistic=nan, p-value=1.0000\n",
      "------------------------------\n",
      "Skewness of Generosity: nan\n",
      "Kurtosis of Generosity: nan\n",
      "Shapiro-Wilk test for Generosity: statistic=nan, p-value=1.0000\n",
      "------------------------------\n",
      "Skewness of Perceptions of corruption: nan\n",
      "Kurtosis of Perceptions of corruption: nan\n",
      "Shapiro-Wilk test for Perceptions of corruption: statistic=nan, p-value=1.0000\n",
      "------------------------------\n",
      "Skewness of Positive affect: nan\n",
      "Kurtosis of Positive affect: nan\n",
      "Shapiro-Wilk test for Positive affect: statistic=nan, p-value=1.0000\n",
      "------------------------------\n",
      "Skewness of Negative affect: nan\n",
      "Kurtosis of Negative affect: nan\n",
      "Shapiro-Wilk test for Negative affect: statistic=nan, p-value=1.0000\n",
      "------------------------------\n"
     ]
    }
   ],
   "source": [
    "\n",
    "# Select numerical columns\n",
    "numerical_cols = data.select_dtypes(include=['float64', 'int64']).columns\n",
    "\n",
    "# Loop through each numerical column\n",
    "for col in numerical_cols:\n",
    "    # Calculate skewness and kurtosis\n",
    "    skew_val = skew(data[col])\n",
    "    kurt_val = kurtosis(data[col])\n",
    "    print(f\"Skewness of {col}: {skew_val:.2f}\")\n",
    "    print(f\"Kurtosis of {col}: {kurt_val:.2f}\")\n",
    "    \n",
    "    # Shapiro-Wilk test for normality\n",
    "    stat, p_val = shapiro(data[col])\n",
    "    print(f\"Shapiro-Wilk test for {col}: statistic={stat:.4f}, p-value={p_val:.4f}\")\n",
    "    print(\"-\" * 30)"
   ]
  },
  {
   "cell_type": "markdown",
   "metadata": {},
   "source": [
    "#### Skewness measures the asymmetry of a distribution, with a value of 0 indicating perfect symmetry. Positive skewness indicates a longer right tail, while negative skewness indicates a longer left tail.\n",
    "#### Kurtosis measures the \"peakedness\" of a distribution. A normal distribution has a kurtosis of 3. Higher kurtosis indicates a more peaked distribution with heavier tails, while lower kurtosis indicates a flatter distribution.\n",
    "#### The Shapiro-Wilk test is a statistical test that checks if a sample comes from a normal distribution. A low p-value (e.g., < 0.05) suggests that the data is not normally distributed."
   ]
  },
  {
   "cell_type": "markdown",
   "metadata": {},
   "source": [
    "## Internal consistency"
   ]
  },
  {
   "cell_type": "markdown",
   "metadata": {},
   "source": [
    "Internal consistency measures the reliability of a set of variables or items that are meant to measure the same construct. For this dataset, which contains various socioeconomic indicators, we can calculate the Cronbach's alpha to assess the internal consistency of the entire dataset."
   ]
  },
  {
   "cell_type": "code",
   "execution_count": 19,
   "metadata": {},
   "outputs": [
    {
     "name": "stdout",
     "output_type": "stream",
     "text": [
      "Cronbach's alpha for the dataset: 0.3020\n"
     ]
    }
   ],
   "source": [
    "# Calculate Cronbach's alpha\n",
    "columns = data.select_dtypes(include=['float64', 'int64']).columns\n",
    "\n",
    "# Calculate Cronbach's alpha\n",
    "cronbach_alpha = pg.cronbach_alpha(data=data[columns])\n",
    "\n",
    "print(f\"Cronbach's alpha for the dataset: {cronbach_alpha[0]:.4f}\")"
   ]
  },
  {
   "cell_type": "markdown",
   "metadata": {},
   "source": [
    "#### Cronbach's alpha is a measure of internal consistency, ranging from 0 to 1. A higher value (e.g., > 0.7) indicates that the variables are measuring the same underlying construct consistently.\n",
    "#### The code calculates the Cronbach's alpha by first computing the correlation matrix of numerical variables, then using the off-diagonal elements of the correlation matrix to calculate the alpha value."
   ]
  },
  {
   "cell_type": "markdown",
   "metadata": {},
   "source": [
    "## Correlation"
   ]
  },
  {
   "cell_type": "markdown",
   "metadata": {},
   "source": [
    "We can calculate the correlation between the variables to understand the strength and direction of the linear relationship between them."
   ]
  },
  {
   "cell_type": "code",
   "execution_count": 16,
   "metadata": {},
   "outputs": [
    {
     "name": "stdout",
     "output_type": "stream",
     "text": [
      "Correlation matrix:\n",
      "                                       year  Log GDP per capita  \\\n",
      "year                              1.000000            0.077767   \n",
      "Log GDP per capita                0.077767            1.000000   \n",
      "Social support                   -0.029741            0.683590   \n",
      "Healthy life expectancy at birth  0.163500            0.818126   \n",
      "Freedom to make life choices      0.234135            0.367525   \n",
      "Generosity                        0.005641           -0.000854   \n",
      "Perceptions of corruption        -0.081394           -0.352847   \n",
      "Positive affect                   0.019226            0.237933   \n",
      "Negative affect                   0.205329           -0.247541   \n",
      "\n",
      "                                  Social support  \\\n",
      "year                                   -0.029741   \n",
      "Log GDP per capita                      0.683590   \n",
      "Social support                          1.000000   \n",
      "Healthy life expectancy at birth        0.597659   \n",
      "Freedom to make life choices            0.409326   \n",
      "Generosity                              0.068572   \n",
      "Perceptions of corruption              -0.222551   \n",
      "Positive affect                         0.431038   \n",
      "Negative affect                        -0.441837   \n",
      "\n",
      "                                  Healthy life expectancy at birth  \\\n",
      "year                                                      0.163500   \n",
      "Log GDP per capita                                        0.818126   \n",
      "Social support                                            0.597659   \n",
      "Healthy life expectancy at birth                          1.000000   \n",
      "Freedom to make life choices                              0.373465   \n",
      "Generosity                                                0.010775   \n",
      "Perceptions of corruption                                -0.299016   \n",
      "Positive affect                                           0.223048   \n",
      "Negative affect                                          -0.140700   \n",
      "\n",
      "                                  Freedom to make life choices  Generosity  \\\n",
      "year                                                  0.234135    0.005641   \n",
      "Log GDP per capita                                    0.367525   -0.000854   \n",
      "Social support                                        0.409326    0.068572   \n",
      "Healthy life expectancy at birth                      0.373465    0.010775   \n",
      "Freedom to make life choices                          1.000000    0.325030   \n",
      "Generosity                                            0.325030    1.000000   \n",
      "Perceptions of corruption                            -0.476517   -0.279435   \n",
      "Positive affect                                       0.578680    0.307097   \n",
      "Negative affect                                      -0.275438   -0.080801   \n",
      "\n",
      "                                  Perceptions of corruption  Positive affect  \\\n",
      "year                                              -0.081394         0.019226   \n",
      "Log GDP per capita                                -0.352847         0.237933   \n",
      "Social support                                    -0.222551         0.431038   \n",
      "Healthy life expectancy at birth                  -0.299016         0.223048   \n",
      "Freedom to make life choices                      -0.476517         0.578680   \n",
      "Generosity                                        -0.279435         0.307097   \n",
      "Perceptions of corruption                          1.000000        -0.280606   \n",
      "Positive affect                                   -0.280606         1.000000   \n",
      "Negative affect                                    0.266265        -0.330301   \n",
      "\n",
      "                                  Negative affect  \n",
      "year                                     0.205329  \n",
      "Log GDP per capita                      -0.247541  \n",
      "Social support                          -0.441837  \n",
      "Healthy life expectancy at birth        -0.140700  \n",
      "Freedom to make life choices            -0.275438  \n",
      "Generosity                              -0.080801  \n",
      "Perceptions of corruption                0.266265  \n",
      "Positive affect                         -0.330301  \n",
      "Negative affect                          1.000000  \n"
     ]
    }
   ],
   "source": [
    "# Calculate correlation matrix\n",
    "corr_matrix = data.select_dtypes(include=['float64', 'int64']).corr()\n",
    "print(\"Correlation matrix:\\n\", corr_matrix)"
   ]
  },
  {
   "cell_type": "markdown",
   "metadata": {},
   "source": [
    "#### The correlation matrix shows the pairwise correlation coefficients between all numerical variables.\n",
    "#### A correlation coefficient ranges from -1 to 1, where -1 indicates a perfect negative correlation, 0 indicates no correlation, and 1 indicates a perfect positive correlation.\n",
    "#### The correlation matrix can help identify multicollinearity issues (highly correlated variables) and potential relationships between variables."
   ]
  },
  {
   "cell_type": "markdown",
   "metadata": {},
   "source": [
    "## Outlier detection"
   ]
  },
  {
   "cell_type": "markdown",
   "metadata": {},
   "source": [
    "Outliers can significantly impact the analysis and modeling of data. We can use various techniques to detect outliers, such as the Z-score method or the Tukey's method."
   ]
  },
  {
   "cell_type": "code",
   "execution_count": 17,
   "metadata": {},
   "outputs": [
    {
     "name": "stdout",
     "output_type": "stream",
     "text": [
      "Number of outliers detected (Z-score method): 110\n",
      "Number of outliers detected (Tukey's method): 321\n"
     ]
    }
   ],
   "source": [
    "# Detect outliers using Z-score method\n",
    "z_scores = np.abs((data.select_dtypes(include=['float64', 'int64']) - data.select_dtypes(include=['float64', 'int64']).mean()) / data.select_dtypes(include=['float64', 'int64']).std())\n",
    "outliers = (z_scores > 3).any(axis=1)\n",
    "print(f\"Number of outliers detected (Z-score method): {outliers.sum()}\")\n",
    "\n",
    "# Detect outliers using Tukey's method\n",
    "Q1 = data.select_dtypes(include=['float64', 'int64']).quantile(0.25)\n",
    "Q3 = data.select_dtypes(include=['float64', 'int64']).quantile(0.75)\n",
    "IQR = Q3 - Q1\n",
    "outliers = (data.select_dtypes(include=['float64', 'int64']) < (Q1 - 1.5 * IQR)) | (data.select_dtypes(include=['float64', 'int64']) > (Q3 + 1.5 * IQR))\n",
    "print(f\"Number of outliers detected (Tukey's method): {outliers.any(axis=1).sum()}\")"
   ]
  },
  {
   "cell_type": "markdown",
   "metadata": {},
   "source": [
    "#### The Z-score method calculates the number of standard deviations a data point is away from the mean. Data points with an absolute Z-score greater than 3 are often considered outliers.\n",
    "#### Tukey's method is based on the interquartile range (IQR). Data points beyond 1.5 times the IQR from the first (Q1) and third (Q3) quartiles are considered outliers.\n",
    "#### Both methods identify the number of rows (observations) that contain at least one outlier value across all numerical columns."
   ]
  }
 ],
 "metadata": {
  "kernelspec": {
   "display_name": "Python 3",
   "language": "python",
   "name": "python3"
  },
  "language_info": {
   "codemirror_mode": {
    "name": "ipython",
    "version": 3
   },
   "file_extension": ".py",
   "mimetype": "text/x-python",
   "name": "python",
   "nbconvert_exporter": "python",
   "pygments_lexer": "ipython3",
   "version": "3.10.12"
  }
 },
 "nbformat": 4,
 "nbformat_minor": 2
}
