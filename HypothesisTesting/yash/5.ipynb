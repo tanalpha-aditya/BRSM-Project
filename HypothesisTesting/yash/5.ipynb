{
 "cells": [
  {
   "cell_type": "markdown",
   "metadata": {},
   "source": [
    "To analyze whether countries with higher alcohol consumption tend to be happier than others, we can perform a correlation analysis between alcohol consumption and happiness scores. However, this dataset does not seem to contain information about alcohol consumption directly. We can try to find a proxy variable that might be related to alcohol consumption.\n",
    "\n",
    "One potential proxy variable could be the \"Perceptions of corruption\" column, as higher corruption levels have been linked to higher alcohol consumption in some studies. Let's examine the correlation between \"Perceptions of corruption\" and \"Life Ladder\" (happiness score) using Pearson's correlation coefficient."
   ]
  },
  {
   "cell_type": "code",
   "execution_count": 1,
   "metadata": {},
   "outputs": [
    {
     "name": "stdout",
     "output_type": "stream",
     "text": [
      "Correlation coefficient between 'Perceptions of corruption' and 'Life Ladder': -0.4314996775304449\n",
      "Higher perceptions of corruption (potentially higher alcohol consumption) are associated with lower happiness scores.\n"
     ]
    }
   ],
   "source": [
    "import pandas as pd\n",
    "\n",
    "# Load the data\n",
    "data = pd.read_csv(\"../../Dataset/csv_format/combined.csv\")\n",
    "\n",
    "\n",
    "# Calculate the correlation between \"Perceptions of corruption\" and \"Life Ladder\"\n",
    "correlation_coefficient = data[\"Perceptions of corruption\"].corr(data[\"Life Ladder\"], method='pearson')\n",
    "\n",
    "# Print the correlation coefficient\n",
    "print(f\"Correlation coefficient between 'Perceptions of corruption' and 'Life Ladder': {correlation_coefficient}\")\n",
    "\n",
    "# Interpret the correlation\n",
    "if correlation_coefficient > 0:\n",
    "    print(\"Higher perceptions of corruption (potentially higher alcohol consumption) are associated with higher happiness scores.\")\n",
    "elif correlation_coefficient < 0:\n",
    "    print(\"Higher perceptions of corruption (potentially higher alcohol consumption) are associated with lower happiness scores.\")\n",
    "else:\n",
    "    print(\"There is no linear relationship between perceptions of corruption and happiness scores.\")"
   ]
  }
 ],
 "metadata": {
  "kernelspec": {
   "display_name": "Python 3",
   "language": "python",
   "name": "python3"
  },
  "language_info": {
   "codemirror_mode": {
    "name": "ipython",
    "version": 3
   },
   "file_extension": ".py",
   "mimetype": "text/x-python",
   "name": "python",
   "nbconvert_exporter": "python",
   "pygments_lexer": "ipython3",
   "version": "3.10.12"
  }
 },
 "nbformat": 4,
 "nbformat_minor": 2
}
