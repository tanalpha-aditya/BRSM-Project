{
 "cells": [
  {
   "cell_type": "markdown",
   "metadata": {},
   "source": [
    "To test the hypothesis that there is no significant difference in the average happiness scores of the United States during Biden's presidency compared to Obama's presidency, we can perform a statistical hypothesis test using the available data."
   ]
  },
  {
   "cell_type": "code",
   "execution_count": 2,
   "metadata": {},
   "outputs": [
    {
     "name": "stdout",
     "output_type": "stream",
     "text": [
      "Mean happiness score during Obama's presidency: 7.058111111111111\n",
      "Mean happiness score during Biden's presidency: 6.826\n",
      "t-statistic: 1.6351784592031084\n",
      "p-value: 0.30530269002168847\n",
      "The happiness scores in the United States are not significantly different during Obama's and Biden's presidencies.\n"
     ]
    }
   ],
   "source": [
    "import pandas as pd\n",
    "from scipy.stats import ttest_ind\n",
    "\n",
    "# Load the data\n",
    "data = pd.read_csv(\"../../Dataset/csv_format/combined.csv\")\n",
    "\n",
    "# Extract data for the United States\n",
    "us_data = data[data[\"Country name\"] == \"United States\"]\n",
    "\n",
    "# Define the periods for Obama's and Biden's presidencies\n",
    "obama_period = (us_data[\"year\"] >= 2009) & (us_data[\"year\"] <= 2017)\n",
    "biden_period = us_data[\"year\"] >= 2021\n",
    "\n",
    "# Extract happiness scores for the respective periods\n",
    "obama_scores = us_data.loc[obama_period, \"Life Ladder\"]\n",
    "biden_scores = us_data.loc[biden_period, \"Life Ladder\"]\n",
    "\n",
    "# Perform the two-sample t-test\n",
    "t_statistic, p_value = ttest_ind(obama_scores, biden_scores, equal_var=False)\n",
    "\n",
    "# Print the results\n",
    "print(f\"Mean happiness score during Obama's presidency: {obama_scores.mean()}\")\n",
    "print(f\"Mean happiness score during Biden's presidency: {biden_scores.mean()}\")\n",
    "print(f\"t-statistic: {t_statistic}\")\n",
    "print(f\"p-value: {p_value}\")\n",
    "\n",
    "# Interpret the results\n",
    "alpha = 0.05  # Significance level\n",
    "if p_value < alpha:\n",
    "    print(\"The happiness scores in the United States are significantly different during Obama's and Biden's presidencies.\")\n",
    "else:\n",
    "    print(\"The happiness scores in the United States are not significantly different during Obama's and Biden's presidencies.\")"
   ]
  }
 ],
 "metadata": {
  "kernelspec": {
   "display_name": "Python 3",
   "language": "python",
   "name": "python3"
  },
  "language_info": {
   "codemirror_mode": {
    "name": "ipython",
    "version": 3
   },
   "file_extension": ".py",
   "mimetype": "text/x-python",
   "name": "python",
   "nbconvert_exporter": "python",
   "pygments_lexer": "ipython3",
   "version": "3.10.12"
  }
 },
 "nbformat": 4,
 "nbformat_minor": 2
}
