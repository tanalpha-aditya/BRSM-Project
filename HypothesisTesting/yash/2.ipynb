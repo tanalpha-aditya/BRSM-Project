{
 "cells": [
  {
   "cell_type": "markdown",
   "metadata": {},
   "source": [
    "To test the hypothesis that the Sri Lankan recession had no significant effect on the happiness score in Sri Lanka, we can perform a statistical hypothesis test. Since the data does not provide information on the exact period of the recession, we will compare Sri Lanka's happiness scores before and after a specific year to see if there is a significant difference.\n",
    "\n",
    "Let's assume that the recession occurred around 2019, and we want to compare the happiness scores before and after 2019. We'll use a two-sample t-test to check if the mean happiness scores are significantly different."
   ]
  },
  {
   "cell_type": "code",
   "execution_count": 1,
   "metadata": {},
   "outputs": [
    {
     "name": "stdout",
     "output_type": "stream",
     "text": [
      "Mean happiness score before 2019: 4.316416666666667\n",
      "Mean happiness score after 2019: 4.3646666666666665\n",
      "t-statistic: -0.225305041302326\n",
      "p-value: 0.8409656086001092\n",
      "The happiness scores in Sri Lanka are not significantly different before and after 2019.\n"
     ]
    }
   ],
   "source": [
    "import pandas as pd\n",
    "from scipy.stats import ttest_ind\n",
    "\n",
    "# Load the data\n",
    "data = pd.read_csv(\"../../Dataset/csv_format/combined.csv\")\n",
    "\n",
    "# Extract Sri Lanka's data\n",
    "sri_lanka = data[data[\"Country name\"] == \"Sri Lanka\"]\n",
    "\n",
    "# Split the data into before and after 2019\n",
    "before_2019 = sri_lanka[sri_lanka[\"year\"] < 2019][\"Life Ladder\"]\n",
    "after_2019 = sri_lanka[sri_lanka[\"year\"] >= 2019][\"Life Ladder\"]\n",
    "\n",
    "# Perform the two-sample t-test\n",
    "t_statistic, p_value = ttest_ind(before_2019, after_2019, equal_var=False)\n",
    "\n",
    "# Print the results\n",
    "print(f\"Mean happiness score before 2019: {before_2019.mean()}\")\n",
    "print(f\"Mean happiness score after 2019: {after_2019.mean()}\")\n",
    "print(f\"t-statistic: {t_statistic}\")\n",
    "print(f\"p-value: {p_value}\")\n",
    "\n",
    "# Interpret the results\n",
    "alpha = 0.05  # Significance level\n",
    "if p_value < alpha:\n",
    "    print(\"The happiness scores in Sri Lanka are significantly different before and after 2019.\")\n",
    "else:\n",
    "    print(\"The happiness scores in Sri Lanka are not significantly different before and after 2019.\")"
   ]
  },
  {
   "cell_type": "code",
   "execution_count": null,
   "metadata": {},
   "outputs": [],
   "source": []
  }
 ],
 "metadata": {
  "kernelspec": {
   "display_name": "Python 3",
   "language": "python",
   "name": "python3"
  },
  "language_info": {
   "codemirror_mode": {
    "name": "ipython",
    "version": 3
   },
   "file_extension": ".py",
   "mimetype": "text/x-python",
   "name": "python",
   "nbconvert_exporter": "python",
   "pygments_lexer": "ipython3",
   "version": "3.10.12"
  }
 },
 "nbformat": 4,
 "nbformat_minor": 2
}
