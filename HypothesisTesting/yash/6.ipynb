{
 "cells": [
  {
   "cell_type": "markdown",
   "metadata": {},
   "source": [
    "To test the hypothesis that there is no significant difference between the average 'Freedom to make life choices' rankings at the 1st quartile versus the 3rd quartile, we can perform a statistical hypothesis test using the available data."
   ]
  },
  {
   "cell_type": "code",
   "execution_count": 1,
   "metadata": {},
   "outputs": [
    {
     "name": "stdout",
     "output_type": "stream",
     "text": [
      "Mean 'Freedom to make life choices' at 1st quartile: 0.5536217712177122\n",
      "Mean 'Freedom to make life choices' at 3rd quartile: 0.9076709323583181\n",
      "t-statistic: -91.55184650732994\n",
      "p-value: 0.0\n",
      "The 'Freedom to make life choices' rankings are significantly different at the 1st and 3rd quartiles.\n"
     ]
    }
   ],
   "source": [
    "import pandas as pd\n",
    "from scipy.stats import ttest_ind\n",
    "\n",
    "# Load the data\n",
    "data = pd.read_csv(\"../../Dataset/csv_format/combined.csv\")\n",
    "\n",
    "# Calculate the quartiles for 'Freedom to make life choices'\n",
    "quartiles = data['Freedom to make life choices'].quantile([0.25, 0.75])\n",
    "q1 = quartiles[0.25]\n",
    "q3 = quartiles[0.75]\n",
    "\n",
    "# Split the data into two groups based on quartiles\n",
    "group1 = data[data['Freedom to make life choices'] <= q1]['Freedom to make life choices']\n",
    "group2 = data[data['Freedom to make life choices'] >= q3]['Freedom to make life choices']\n",
    "\n",
    "# Perform the two-sample t-test\n",
    "t_statistic, p_value = ttest_ind(group1, group2, equal_var=False)\n",
    "\n",
    "# Print the results\n",
    "print(f\"Mean 'Freedom to make life choices' at 1st quartile: {group1.mean()}\")\n",
    "print(f\"Mean 'Freedom to make life choices' at 3rd quartile: {group2.mean()}\")\n",
    "print(f\"t-statistic: {t_statistic}\")\n",
    "print(f\"p-value: {p_value}\")\n",
    "\n",
    "# Interpret the results\n",
    "alpha = 0.05  # Significance level\n",
    "if p_value < alpha:\n",
    "    print(\"The 'Freedom to make life choices' rankings are significantly different at the 1st and 3rd quartiles.\")\n",
    "else:\n",
    "    print(\"The 'Freedom to make life choices' rankings are not significantly different at the 1st and 3rd quartiles.\")"
   ]
  }
 ],
 "metadata": {
  "kernelspec": {
   "display_name": "Python 3",
   "language": "python",
   "name": "python3"
  },
  "language_info": {
   "codemirror_mode": {
    "name": "ipython",
    "version": 3
   },
   "file_extension": ".py",
   "mimetype": "text/x-python",
   "name": "python",
   "nbconvert_exporter": "python",
   "pygments_lexer": "ipython3",
   "version": "3.10.12"
  }
 },
 "nbformat": 4,
 "nbformat_minor": 2
}
